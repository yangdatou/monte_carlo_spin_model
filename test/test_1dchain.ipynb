{
 "cells": [
  {
   "cell_type": "code",
   "execution_count": 1,
   "metadata": {},
   "outputs": [],
   "source": [
    "from sys import path\n",
    "path.append(\"..\")\n",
    "\n",
    "import spin_model\n",
    "from spin_model.spin_system import OneDimensionalSpinChain\n",
    "from spin_model.spin_model  import IsingModel"
   ]
  },
  {
   "cell_type": "code",
   "execution_count": 2,
   "metadata": {},
   "outputs": [
    {
     "name": "stdout",
     "output_type": "stream",
     "text": [
      "ispin_site = 0, spin_site.config = 1\n",
      "ispin_site = 1, spin_site.config = 1\n",
      "ispin_site = 2, spin_site.config = -1\n",
      "ispin_site = 3, spin_site.config = 1\n",
      "\n",
      "spin_chain.get_system_energy() = 0.000000\n"
     ]
    }
   ],
   "source": [
    "ising_model = IsingModel(interaction_strength=1.0)\n",
    "spin_chain  = OneDimensionalSpinChain(ising_model, size=4, is_pbc=True, temperature=1.0)\n",
    "for ispin_site, spin_site in enumerate(spin_chain._spin_site_list):\n",
    "    print(\"ispin_site = %d, spin_site.config = %d\"%(ispin_site, spin_site.config))\n",
    "\n",
    "print(\"\\nspin_chain.get_system_energy() = %f\"%(spin_chain.get_system_energy()))"
   ]
  },
  {
   "cell_type": "code",
   "execution_count": 3,
   "metadata": {},
   "outputs": [
    {
     "name": "stdout",
     "output_type": "stream",
     "text": [
      "ispin_site = 0, spin_site.config = -1\n",
      "ispin_site = 1, spin_site.config = -1\n",
      "ispin_site = 2, spin_site.config = -1\n",
      "ispin_site = 3, spin_site.config = 1\n",
      "\n",
      "spin_chain.get_system_energy() = 1.000000\n"
     ]
    }
   ],
   "source": [
    "ising_model = IsingModel(interaction_strength=1.0)\n",
    "spin_chain  = OneDimensionalSpinChain(ising_model, size=4, is_pbc=False, temperature=1.0)\n",
    "for ispin_site, spin_site in enumerate(spin_chain._spin_site_list):\n",
    "    print(\"ispin_site = %d, spin_site.config = %d\"%(ispin_site, spin_site.config))\n",
    "    \n",
    "print(\"\\nspin_chain.get_system_energy() = %f\"%(spin_chain.get_system_energy()))"
   ]
  }
 ],
 "metadata": {
  "kernelspec": {
   "display_name": "Python 3",
   "language": "python",
   "name": "python3"
  },
  "language_info": {
   "codemirror_mode": {
    "name": "ipython",
    "version": 3
   },
   "file_extension": ".py",
   "mimetype": "text/x-python",
   "name": "python",
   "nbconvert_exporter": "python",
   "pygments_lexer": "ipython3",
   "version": "3.7.7"
  }
 },
 "nbformat": 4,
 "nbformat_minor": 4
}
