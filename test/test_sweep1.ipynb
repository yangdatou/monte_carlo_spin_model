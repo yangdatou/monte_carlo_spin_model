{
 "cells": [
  {
   "cell_type": "code",
   "execution_count": 1,
   "metadata": {},
   "outputs": [
    {
     "ename": "ImportError",
     "evalue": "cannot import name 'Two' from 'monte_carlo_spin_model.spin_system' (../monte_carlo_spin_model/spin_system.py)",
     "output_type": "error",
     "traceback": [
      "\u001b[0;31m---------------------------------------------------------------------------\u001b[0m",
      "\u001b[0;31mImportError\u001b[0m                               Traceback (most recent call last)",
      "\u001b[0;32m<ipython-input-1-6bbe90124026>\u001b[0m in \u001b[0;36m<module>\u001b[0;34m\u001b[0m\n\u001b[1;32m      3\u001b[0m \u001b[0;34m\u001b[0m\u001b[0m\n\u001b[1;32m      4\u001b[0m \u001b[0;32mimport\u001b[0m \u001b[0mmonte_carlo_spin_model\u001b[0m\u001b[0;34m\u001b[0m\u001b[0;34m\u001b[0m\u001b[0m\n\u001b[0;32m----> 5\u001b[0;31m \u001b[0;32mfrom\u001b[0m   \u001b[0mmonte_carlo_spin_model\u001b[0m\u001b[0;34m.\u001b[0m\u001b[0mspin_system\u001b[0m         \u001b[0;32mimport\u001b[0m \u001b[0mTwo\u001b[0m\u001b[0;34m\u001b[0m\u001b[0;34m\u001b[0m\u001b[0m\n\u001b[0m\u001b[1;32m      6\u001b[0m \u001b[0;32mfrom\u001b[0m   \u001b[0mmonte_carlo_spin_model\u001b[0m\u001b[0;34m.\u001b[0m\u001b[0mspin_model\u001b[0m          \u001b[0;32mimport\u001b[0m \u001b[0mIsingModel\u001b[0m\u001b[0;34m\u001b[0m\u001b[0;34m\u001b[0m\u001b[0m\n\u001b[1;32m      7\u001b[0m \u001b[0;32mfrom\u001b[0m   \u001b[0mmonte_carlo_spin_model\u001b[0m\u001b[0;34m.\u001b[0m\u001b[0mannealing_algrithm\u001b[0m  \u001b[0;32mimport\u001b[0m \u001b[0mequilibrate\u001b[0m\u001b[0;34m,\u001b[0m \u001b[0mannealing\u001b[0m\u001b[0;34m\u001b[0m\u001b[0;34m\u001b[0m\u001b[0m\n",
      "\u001b[0;31mImportError\u001b[0m: cannot import name 'Two' from 'monte_carlo_spin_model.spin_system' (../monte_carlo_spin_model/spin_system.py)"
     ]
    }
   ],
   "source": [
    "from sys import path\n",
    "path.append(\"..\")\n",
    "\n",
    "import monte_carlo_spin_model\n",
    "from   monte_carlo_spin_model.spin_system         import OneDimensionalSpinChain\n",
    "from   monte_carlo_spin_model.spin_model          import IsingModel\n",
    "from   monte_carlo_spin_model.annealing_algrithm  import equilibrate, annealing\n",
    "\n",
    "from numpy import tanh, cosh\n",
    "\n",
    "import matplotlib as mpl\n",
    "from   matplotlib import pyplot as plt"
   ]
  },
  {
   "cell_type": "code",
   "execution_count": null,
   "metadata": {},
   "outputs": [],
   "source": [
    "coulping_const = 1.0\n",
    "nn             = 2000\n",
    "\n",
    "ising_model = IsingModel(interaction_strength=coulping_const)\n",
    "spin_chain  = OneDimensionalSpinChain(ising_model, shape=nn, is_pbc=True)\n",
    "print(\"spin_chain.get_system_energy() = %f\"%(spin_chain.get_system_energy()))\n",
    "for i in range(spin_chain.size):\n",
    "    site = spin_chain.get_site(i)"
   ]
  },
  {
   "cell_type": "code",
   "execution_count": null,
   "metadata": {},
   "outputs": [],
   "source": [
    "site1          = spin_chain.get_site(1)\n",
    "site1_config   = spin_chain.get_index_config(1)\n",
    "\n",
    "site2         = spin_chain.get_site(2)\n",
    "prev_config   = site2.get_config()\n",
    "\n",
    "site3          = spin_chain.get_site(3)\n",
    "site3_config   = spin_chain.get_index_config(3)\n",
    "\n",
    "print(\"site1  config      = {: d}\".format(site1_config))\n",
    "print(\"site2  prev_config = {: d}\".format(prev_config))\n",
    "print(\"site3  config      = {: d}\".format(site3_config))"
   ]
  },
  {
   "cell_type": "code",
   "execution_count": null,
   "metadata": {},
   "outputs": [],
   "source": [
    "prev_config   = site2.get_config()\n",
    "print(\"site2  prev_config    = {: d}\".format(prev_config))\n",
    "\n",
    "spin_chain.sweep_site(site2)\n",
    "current_config = site2.get_config()\n",
    "print(\"site2  current_config = {: d}\".format(current_config))"
   ]
  },
  {
   "cell_type": "code",
   "execution_count": null,
   "metadata": {},
   "outputs": [],
   "source": [
    "spin_chain.sweep_system()\n",
    "print(\"spin_chain.get_system_energy() = %f\"%(spin_chain.get_system_energy()))\n",
    "for i in range(spin_chain.size):\n",
    "    site = spin_chain.get_site(i)\n",
    "#     print(\"site id = {:d}, config = {: d}\".format(id(site), site.get_config()))"
   ]
  },
  {
   "cell_type": "code",
   "execution_count": null,
   "metadata": {},
   "outputs": [],
   "source": [
    "equilibrate(spin_chain, temperature=10.0, max_cycle=2000, tol=1e-4)"
   ]
  },
  {
   "cell_type": "code",
   "execution_count": null,
   "metadata": {},
   "outputs": [],
   "source": [
    "temp_list, ene_list, cv_list = annealing(\n",
    "    spin_chain, temp_init=5.0, temp_final=0.1, nsteps=20, max_cycle=2000, tol=1e-4\n",
    ")"
   ]
  },
  {
   "cell_type": "code",
   "execution_count": null,
   "metadata": {},
   "outputs": [],
   "source": [
    "style_dict = {\n",
    "    'Metropolis algorithm': dict(linestyle='-.', marker='s', color='C1',  markersize=6, markevery=2),\n",
    "    'Exact calculation':    dict(linestyle='-',  marker='*', color='C2',  markersize=6, markevery=2),\n",
    "}\n",
    "\n",
    "params = {\n",
    "        \"axes.titlesize\":  10, \n",
    "        \"axes.labelsize\":  20, \n",
    "        \"legend.fontsize\": 15,\n",
    "        \"xtick.labelsize\": 10,\n",
    "        \"ytick.labelsize\": 10, \n",
    "        \"xtick.direction\":'in', \n",
    "        \"ytick.direction\":'in' \n",
    "}\n",
    "mpl.rcParams.update(**params)\n",
    "\n",
    "exact_ene_list = [-nn*tanh(coulping_const/t)                       for t in temp_list]\n",
    "exact_cv_list  = [ nn*coulping_const/cosh(coulping_const/t)**2/t/t for t in temp_list]\n",
    "\n",
    "fig1, ax1 = plt.subplots(2,1,figsize=(10,8),sharex=True)\n",
    "fig1.subplots_adjust(left=0.09, bottom=0.1, right=0.99, top=0.99, wspace=0.1)\n",
    "ax1[0].plot(temp_list, ene_list,       **style_dict['Metropolis algorithm'], label='Metropolis algorithm')\n",
    "ax1[0].plot(temp_list, exact_ene_list, **style_dict['Exact calculation'],    label='Exact calculation')\n",
    "\n",
    "ax1[1].plot(temp_list, cv_list,        **style_dict['Metropolis algorithm'], label='Metropolis algorithm')\n",
    "ax1[1].plot(temp_list, exact_cv_list,  **style_dict['Exact calculation'],    label='Exact calculation')\n",
    "\n",
    "props = {'ylabel':r'$\\langle E \\rangle$'}\n",
    "ax1[0].grid(linestyle=\"--\", alpha=0.2)\n",
    "ax1[0].set(**props)\n",
    "\n",
    "props = {'ylabel':r'$\\langle C_v \\rangle$', 'xlabel':r'$T$'}\n",
    "ax1[1].legend(loc='upper right')\n",
    "ax1[1].grid(linestyle=\"--\", alpha=0.2)\n",
    "ax1[1].set(**props);"
   ]
  },
  {
   "cell_type": "code",
   "execution_count": null,
   "metadata": {},
   "outputs": [],
   "source": []
  }
 ],
 "metadata": {
  "kernelspec": {
   "display_name": "Python 3",
   "language": "python",
   "name": "python3"
  },
  "language_info": {
   "codemirror_mode": {
    "name": "ipython",
    "version": 3
   },
   "file_extension": ".py",
   "mimetype": "text/x-python",
   "name": "python",
   "nbconvert_exporter": "python",
   "pygments_lexer": "ipython3",
   "version": "3.7.7"
  }
 },
 "nbformat": 4,
 "nbformat_minor": 4
}
