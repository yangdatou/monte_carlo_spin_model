{
 "cells": [
  {
   "cell_type": "code",
   "execution_count": 1,
   "metadata": {},
   "outputs": [],
   "source": [
    "from sys import path\n",
    "path.append(\"..\")\n",
    "\n",
    "import monte_carlo_spin_model\n",
    "from   monte_carlo_spin_model.spin_system import OneDimensionalSpinChain\n",
    "from   monte_carlo_spin_model.spin_model  import IsingModel"
   ]
  },
  {
   "cell_type": "code",
   "execution_count": 2,
   "metadata": {},
   "outputs": [
    {
     "name": "stdout",
     "output_type": "stream",
     "text": [
      "Adjacent Site Pairs:\n",
      "adjacent_site_pair id    = (68972267984, 68972267728)\n",
      "adjacent_site_pair index = (3, 0)\n",
      "adjacent_site_pair id    = (68972267728, 68972267856)\n",
      "adjacent_site_pair index = (0, 1)\n",
      "adjacent_site_pair id    = (68972267856, 68972267920)\n",
      "adjacent_site_pair index = (1, 2)\n",
      "adjacent_site_pair id    = (68972267920, 68972267984)\n",
      "adjacent_site_pair index = (2, 3)\n",
      "\n",
      "Adjacent Index Pairs:\n",
      "adjacent_site_pair index = (3, 0)\n",
      "adjacent_site_pair index = (0, 1)\n",
      "adjacent_site_pair index = (1, 2)\n",
      "adjacent_site_pair index = (2, 3)\n"
     ]
    }
   ],
   "source": [
    "ising_model = IsingModel(interaction_strength=1.0)\n",
    "spin_chain  = OneDimensionalSpinChain(ising_model, shape=4, is_pbc=True, temperature=1.0)\n",
    "adjacent_index_pairs = spin_chain.get_adjacent_index_pairs()\n",
    "adjacent_site_pairs  = spin_chain.get_adjacent_site_pairs()\n",
    "\n",
    "print(\"Adjacent Site Pairs:\")\n",
    "for adjacent_site_pair in adjacent_site_pairs:\n",
    "    site1 = adjacent_site_pair[0]\n",
    "    site2 = adjacent_site_pair[1]\n",
    "\n",
    "    id1 = id(site1)\n",
    "    id2 = id(site2)\n",
    "    \n",
    "    index1 = site1.get_index()\n",
    "    index2 = site2.get_index()\n",
    "    print(\"adjacent_site_pair id    = ({:d}, {:d})\".format(id1, id2))\n",
    "    print(\"adjacent_site_pair index = ({:d}, {:d})\".format(index1, index2))\n",
    "\n",
    "print()\n",
    "print(\"Adjacent Index Pairs:\")\n",
    "for adjacent_index_pair in adjacent_index_pairs:\n",
    "    index1 = adjacent_index_pair[0]\n",
    "    index2 = adjacent_index_pair[1]\n",
    "    print(\"adjacent_site_pair index = ({:d}, {:d})\".format(index1, index2))"
   ]
  },
  {
   "cell_type": "code",
   "execution_count": 4,
   "metadata": {},
   "outputs": [
    {
     "name": "stdout",
     "output_type": "stream",
     "text": [
      "Adjacent Site Pairs:\n",
      "adjacent_site_pair id    = (69210475920, 69210476048)\n",
      "adjacent_site_pair index = (0, 1)\n",
      "adjacent_site_pair id    = (69210476048, 69210476112)\n",
      "adjacent_site_pair index = (1, 2)\n",
      "adjacent_site_pair id    = (69210476112, 69210476176)\n",
      "adjacent_site_pair index = (2, 3)\n",
      "\n",
      "Adjacent Index Pairs:\n",
      "adjacent_site_pair index = (0, 1)\n",
      "adjacent_site_pair index = (1, 2)\n",
      "adjacent_site_pair index = (2, 3)\n"
     ]
    }
   ],
   "source": [
    "ising_model = IsingModel(interaction_strength=1.0)\n",
    "spin_chain  = OneDimensionalSpinChain(ising_model, shape=4, is_pbc=False, temperature=1.0)\n",
    "adjacent_index_pairs = spin_chain.get_adjacent_index_pairs()\n",
    "adjacent_site_pairs  = spin_chain.get_adjacent_site_pairs()\n",
    "\n",
    "print(\"Adjacent Site Pairs:\")\n",
    "for adjacent_site_pair in adjacent_site_pairs:\n",
    "    site1 = adjacent_site_pair[0]\n",
    "    site2 = adjacent_site_pair[1]\n",
    "\n",
    "    id1 = id(site1)\n",
    "    id2 = id(site2)\n",
    "    \n",
    "    index1 = site1.get_index()\n",
    "    index2 = site2.get_index()\n",
    "    print(\"adjacent_site_pair id    = ({:d}, {:d})\".format(id1, id2))\n",
    "    print(\"adjacent_site_pair index = ({:d}, {:d})\".format(index1, index2))\n",
    "\n",
    "print()\n",
    "print(\"Adjacent Index Pairs:\")\n",
    "for adjacent_index_pair in adjacent_index_pairs:\n",
    "    index1 = adjacent_index_pair[0]\n",
    "    index2 = adjacent_index_pair[1]\n",
    "    print(\"adjacent_site_pair index = ({:d}, {:d})\".format(index1, index2))"
   ]
  },
  {
   "cell_type": "code",
   "execution_count": null,
   "metadata": {},
   "outputs": [],
   "source": []
  }
 ],
 "metadata": {
  "kernelspec": {
   "display_name": "Python 3",
   "language": "python",
   "name": "python3"
  },
  "language_info": {
   "codemirror_mode": {
    "name": "ipython",
    "version": 3
   },
   "file_extension": ".py",
   "mimetype": "text/x-python",
   "name": "python",
   "nbconvert_exporter": "python",
   "pygments_lexer": "ipython3",
   "version": "3.7.7"
  }
 },
 "nbformat": 4,
 "nbformat_minor": 4
}
