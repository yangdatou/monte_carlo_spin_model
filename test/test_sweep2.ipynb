{
 "cells": [
  {
   "cell_type": "code",
   "execution_count": 1,
   "metadata": {},
   "outputs": [
    {
     "name": "stderr",
     "output_type": "stream",
     "text": [
      "In /Users/yangjunjie/opt/anaconda3/lib/python3.7/site-packages/matplotlib/mpl-data/stylelib/_classic_test.mplstyle: \n",
      "The text.latex.preview rcparam was deprecated in Matplotlib 3.3 and will be removed two minor releases later.\n",
      "In /Users/yangjunjie/opt/anaconda3/lib/python3.7/site-packages/matplotlib/mpl-data/stylelib/_classic_test.mplstyle: \n",
      "The mathtext.fallback_to_cm rcparam was deprecated in Matplotlib 3.3 and will be removed two minor releases later.\n",
      "In /Users/yangjunjie/opt/anaconda3/lib/python3.7/site-packages/matplotlib/mpl-data/stylelib/_classic_test.mplstyle: Support for setting the 'mathtext.fallback_to_cm' rcParam is deprecated since 3.3 and will be removed two minor releases later; use 'mathtext.fallback : 'cm' instead.\n",
      "In /Users/yangjunjie/opt/anaconda3/lib/python3.7/site-packages/matplotlib/mpl-data/stylelib/_classic_test.mplstyle: \n",
      "The validate_bool_maybe_none function was deprecated in Matplotlib 3.3 and will be removed two minor releases later.\n",
      "In /Users/yangjunjie/opt/anaconda3/lib/python3.7/site-packages/matplotlib/mpl-data/stylelib/_classic_test.mplstyle: \n",
      "The savefig.jpeg_quality rcparam was deprecated in Matplotlib 3.3 and will be removed two minor releases later.\n",
      "In /Users/yangjunjie/opt/anaconda3/lib/python3.7/site-packages/matplotlib/mpl-data/stylelib/_classic_test.mplstyle: \n",
      "The keymap.all_axes rcparam was deprecated in Matplotlib 3.3 and will be removed two minor releases later.\n",
      "In /Users/yangjunjie/opt/anaconda3/lib/python3.7/site-packages/matplotlib/mpl-data/stylelib/_classic_test.mplstyle: \n",
      "The animation.avconv_path rcparam was deprecated in Matplotlib 3.3 and will be removed two minor releases later.\n",
      "In /Users/yangjunjie/opt/anaconda3/lib/python3.7/site-packages/matplotlib/mpl-data/stylelib/_classic_test.mplstyle: \n",
      "The animation.avconv_args rcparam was deprecated in Matplotlib 3.3 and will be removed two minor releases later.\n"
     ]
    }
   ],
   "source": [
    "from sys import path\n",
    "path.append(\"..\")\n",
    "\n",
    "import monte_carlo_spin_model\n",
    "from   monte_carlo_spin_model.spin_system         import TwoDimensionalSpinLattice\n",
    "from   monte_carlo_spin_model.spin_model          import IsingModel\n",
    "from   monte_carlo_spin_model.annealing_algrithm  import equilibrate, annealing\n",
    "\n",
    "from numpy import tanh, cosh\n",
    "\n",
    "import matplotlib as mpl\n",
    "from   matplotlib import pyplot as plt"
   ]
  },
  {
   "cell_type": "code",
   "execution_count": 2,
   "metadata": {},
   "outputs": [],
   "source": [
    "coulping_const = 1.0\n",
    "nn             = 200\n",
    "\n",
    "ising_model = IsingModel(interaction_strength=coulping_const)\n",
    "spin_lattice  = TwoDimensionalSpinLattice(ising_model, shape=nn, is_pbc=True)\n",
    "\n",
    "for i in range(spin_lattice.size):\n",
    "    site = spin_lattice.get_site(i)"
   ]
  },
  {
   "cell_type": "code",
   "execution_count": 3,
   "metadata": {},
   "outputs": [
    {
     "name": "stdout",
     "output_type": "stream",
     "text": [
      "site1  config      =  1\n",
      "site2  prev_config = -1\n",
      "site3  config      = -1\n"
     ]
    }
   ],
   "source": [
    "site1          = spin_lattice.get_site(1)\n",
    "site1_config   = spin_lattice.get_index_config(1)\n",
    "\n",
    "site2         = spin_lattice.get_site(2)\n",
    "prev_config   = site2.get_config()\n",
    "\n",
    "site3          = spin_lattice.get_site(3)\n",
    "site3_config   = spin_lattice.get_index_config(3)\n",
    "\n",
    "print(\"site1  config      = {: d}\".format(site1_config))\n",
    "print(\"site2  prev_config = {: d}\".format(prev_config))\n",
    "print(\"site3  config      = {: d}\".format(site3_config))"
   ]
  },
  {
   "cell_type": "code",
   "execution_count": 4,
   "metadata": {},
   "outputs": [
    {
     "name": "stdout",
     "output_type": "stream",
     "text": [
      "site2  prev_config    = -1\n"
     ]
    },
    {
     "ename": "TypeError",
     "evalue": "'NoneType' object is not iterable",
     "output_type": "error",
     "traceback": [
      "\u001b[0;31m---------------------------------------------------------------------------\u001b[0m",
      "\u001b[0;31mTypeError\u001b[0m                                 Traceback (most recent call last)",
      "\u001b[0;32m<ipython-input-4-f6e4af8db979>\u001b[0m in \u001b[0;36m<module>\u001b[0;34m\u001b[0m\n\u001b[1;32m      2\u001b[0m \u001b[0mprint\u001b[0m\u001b[0;34m(\u001b[0m\u001b[0;34m\"site2  prev_config    = {: d}\"\u001b[0m\u001b[0;34m.\u001b[0m\u001b[0mformat\u001b[0m\u001b[0;34m(\u001b[0m\u001b[0mprev_config\u001b[0m\u001b[0;34m)\u001b[0m\u001b[0;34m)\u001b[0m\u001b[0;34m\u001b[0m\u001b[0;34m\u001b[0m\u001b[0m\n\u001b[1;32m      3\u001b[0m \u001b[0;34m\u001b[0m\u001b[0m\n\u001b[0;32m----> 4\u001b[0;31m \u001b[0mspin_lattice\u001b[0m\u001b[0;34m.\u001b[0m\u001b[0msweep_site\u001b[0m\u001b[0;34m(\u001b[0m\u001b[0msite2\u001b[0m\u001b[0;34m)\u001b[0m\u001b[0;34m\u001b[0m\u001b[0;34m\u001b[0m\u001b[0m\n\u001b[0m\u001b[1;32m      5\u001b[0m \u001b[0mcurrent_config\u001b[0m \u001b[0;34m=\u001b[0m \u001b[0msite2\u001b[0m\u001b[0;34m.\u001b[0m\u001b[0mget_config\u001b[0m\u001b[0;34m(\u001b[0m\u001b[0;34m)\u001b[0m\u001b[0;34m\u001b[0m\u001b[0;34m\u001b[0m\u001b[0m\n\u001b[1;32m      6\u001b[0m \u001b[0mprint\u001b[0m\u001b[0;34m(\u001b[0m\u001b[0;34m\"site2  current_config = {: d}\"\u001b[0m\u001b[0;34m.\u001b[0m\u001b[0mformat\u001b[0m\u001b[0;34m(\u001b[0m\u001b[0mcurrent_config\u001b[0m\u001b[0;34m)\u001b[0m\u001b[0;34m)\u001b[0m\u001b[0;34m\u001b[0m\u001b[0;34m\u001b[0m\u001b[0m\n",
      "\u001b[0;32m~/work/monte_carlo_spin_model/monte_carlo_spin_model/spin_system.py\u001b[0m in \u001b[0;36msweep_site\u001b[0;34m(self, site)\u001b[0m\n\u001b[1;32m    149\u001b[0m \u001b[0;34m\u001b[0m\u001b[0m\n\u001b[1;32m    150\u001b[0m         \u001b[0mprev_config\u001b[0m    \u001b[0;34m=\u001b[0m \u001b[0mself\u001b[0m\u001b[0;34m.\u001b[0m\u001b[0mget_site_config\u001b[0m\u001b[0;34m(\u001b[0m\u001b[0msite\u001b[0m\u001b[0;34m)\u001b[0m\u001b[0;34m\u001b[0m\u001b[0;34m\u001b[0m\u001b[0m\n\u001b[0;32m--> 151\u001b[0;31m         \u001b[0mprev_energy\u001b[0m    \u001b[0;34m=\u001b[0m \u001b[0mself\u001b[0m\u001b[0;34m.\u001b[0m\u001b[0mget_site_energy\u001b[0m\u001b[0;34m(\u001b[0m\u001b[0msite\u001b[0m\u001b[0;34m)\u001b[0m\u001b[0;34m\u001b[0m\u001b[0;34m\u001b[0m\u001b[0m\n\u001b[0m\u001b[1;32m    152\u001b[0m         \u001b[0mcurrent_config\u001b[0m \u001b[0;34m=\u001b[0m \u001b[0msite\u001b[0m\u001b[0;34m.\u001b[0m\u001b[0mset_random_config\u001b[0m\u001b[0;34m(\u001b[0m\u001b[0;34m)\u001b[0m\u001b[0;34m\u001b[0m\u001b[0;34m\u001b[0m\u001b[0m\n\u001b[1;32m    153\u001b[0m         \u001b[0mcurrent_energy\u001b[0m \u001b[0;34m=\u001b[0m \u001b[0mself\u001b[0m\u001b[0;34m.\u001b[0m\u001b[0mget_site_energy\u001b[0m\u001b[0;34m(\u001b[0m\u001b[0msite\u001b[0m\u001b[0;34m)\u001b[0m\u001b[0;34m\u001b[0m\u001b[0;34m\u001b[0m\u001b[0m\n",
      "\u001b[0;32m~/work/monte_carlo_spin_model/monte_carlo_spin_model/spin_system.py\u001b[0m in \u001b[0;36mget_site_energy\u001b[0;34m(self, site)\u001b[0m\n\u001b[1;32m    104\u001b[0m \u001b[0;34m\u001b[0m\u001b[0m\n\u001b[1;32m    105\u001b[0m     \u001b[0;32mdef\u001b[0m \u001b[0mget_site_energy\u001b[0m\u001b[0;34m(\u001b[0m\u001b[0mself\u001b[0m\u001b[0;34m,\u001b[0m \u001b[0msite\u001b[0m\u001b[0;34m)\u001b[0m\u001b[0;34m:\u001b[0m\u001b[0;34m\u001b[0m\u001b[0;34m\u001b[0m\u001b[0m\n\u001b[0;32m--> 106\u001b[0;31m         \u001b[0msite_neighbors_list\u001b[0m \u001b[0;34m=\u001b[0m \u001b[0mself\u001b[0m\u001b[0;34m.\u001b[0m\u001b[0mget_site_neighbors\u001b[0m\u001b[0;34m(\u001b[0m\u001b[0msite\u001b[0m\u001b[0;34m)\u001b[0m\u001b[0;34m\u001b[0m\u001b[0;34m\u001b[0m\u001b[0m\n\u001b[0m\u001b[1;32m    107\u001b[0m         \u001b[0msite_energy\u001b[0m \u001b[0;34m=\u001b[0m \u001b[0;36m0.0\u001b[0m\u001b[0;34m\u001b[0m\u001b[0;34m\u001b[0m\u001b[0m\n\u001b[1;32m    108\u001b[0m \u001b[0;34m\u001b[0m\u001b[0m\n",
      "\u001b[0;32m~/work/monte_carlo_spin_model/monte_carlo_spin_model/spin_system.py\u001b[0m in \u001b[0;36mget_site_neighbors\u001b[0;34m(self, site)\u001b[0m\n\u001b[1;32m     60\u001b[0m         \u001b[0mcoord_neighbor_list\u001b[0m  \u001b[0;34m=\u001b[0m \u001b[0mself\u001b[0m\u001b[0;34m.\u001b[0m\u001b[0mget_coord_neighbors\u001b[0m\u001b[0;34m(\u001b[0m\u001b[0mcoord\u001b[0m\u001b[0;34m)\u001b[0m\u001b[0;34m\u001b[0m\u001b[0;34m\u001b[0m\u001b[0m\n\u001b[1;32m     61\u001b[0m         \u001b[0msite_neighbor_list\u001b[0m   \u001b[0;34m=\u001b[0m \u001b[0;34m[\u001b[0m\u001b[0;34m]\u001b[0m\u001b[0;34m\u001b[0m\u001b[0;34m\u001b[0m\u001b[0m\n\u001b[0;32m---> 62\u001b[0;31m         \u001b[0;32mfor\u001b[0m \u001b[0mtmp_coord\u001b[0m \u001b[0;32min\u001b[0m \u001b[0mcoord_neighbor_list\u001b[0m\u001b[0;34m:\u001b[0m\u001b[0;34m\u001b[0m\u001b[0;34m\u001b[0m\u001b[0m\n\u001b[0m\u001b[1;32m     63\u001b[0m             \u001b[0mtmp_idx\u001b[0m  \u001b[0;34m=\u001b[0m \u001b[0mself\u001b[0m\u001b[0;34m.\u001b[0m\u001b[0m_coord_list\u001b[0m\u001b[0;34m.\u001b[0m\u001b[0mindex\u001b[0m\u001b[0;34m(\u001b[0m\u001b[0mtmp_coord\u001b[0m\u001b[0;34m)\u001b[0m\u001b[0;34m\u001b[0m\u001b[0;34m\u001b[0m\u001b[0m\n\u001b[1;32m     64\u001b[0m             \u001b[0mtmp_site\u001b[0m \u001b[0;34m=\u001b[0m \u001b[0mself\u001b[0m\u001b[0;34m.\u001b[0m\u001b[0mget_site\u001b[0m\u001b[0;34m(\u001b[0m\u001b[0mtmp_idx\u001b[0m\u001b[0;34m)\u001b[0m\u001b[0;34m\u001b[0m\u001b[0;34m\u001b[0m\u001b[0m\n",
      "\u001b[0;31mTypeError\u001b[0m: 'NoneType' object is not iterable"
     ]
    }
   ],
   "source": [
    "prev_config   = site2.get_config()\n",
    "print(\"site2  prev_config    = {: d}\".format(prev_config))\n",
    "\n",
    "spin_lattice.sweep_site(site2)\n",
    "current_config = site2.get_config()\n",
    "print(\"site2  current_config = {: d}\".format(current_config))"
   ]
  },
  {
   "cell_type": "code",
   "execution_count": null,
   "metadata": {},
   "outputs": [],
   "source": [
    "spin_lattice.sweep_system()\n",
    "print(\"spin_lattice.get_system_energy() = %f\"%(spin_lattice.get_system_energy()))\n",
    "for i in range(spin_lattice.size):\n",
    "    site = spin_lattice.get_site(i)\n",
    "#     print(\"site id = {:d}, config = {: d}\".format(id(site), site.get_config()))"
   ]
  },
  {
   "cell_type": "code",
   "execution_count": null,
   "metadata": {},
   "outputs": [],
   "source": [
    "equilibrate(spin_lattice, temperature=10.0, max_cycle=2000, tol=1e-4)"
   ]
  },
  {
   "cell_type": "code",
   "execution_count": null,
   "metadata": {},
   "outputs": [],
   "source": [
    "temp_list, ene_list, cv_list = annealing(\n",
    "    spin_lattice, temp_init=5.0, temp_final=0.1, nsteps=20, max_cycle=2000, tol=1e-4\n",
    ")"
   ]
  },
  {
   "cell_type": "code",
   "execution_count": null,
   "metadata": {},
   "outputs": [],
   "source": [
    "style_dict = {\n",
    "    'Metropolis algorithm': dict(linestyle='-.', marker='s', color='C1',  markersize=6, markevery=2),\n",
    "    'Exact calculation':    dict(linestyle='-',  marker='*', color='C2',  markersize=6, markevery=2),\n",
    "}\n",
    "\n",
    "params = {\n",
    "        \"axes.titlesize\":  10, \n",
    "        \"axes.labelsize\":  20, \n",
    "        \"legend.fontsize\": 15,\n",
    "        \"xtick.labelsize\": 10,\n",
    "        \"ytick.labelsize\": 10, \n",
    "        \"xtick.direction\":'in', \n",
    "        \"ytick.direction\":'in' \n",
    "}\n",
    "mpl.rcParams.update(**params)\n",
    "\n",
    "exact_ene_list = [-nn*tanh(coulping_const/t)                       for t in temp_list]\n",
    "exact_cv_list  = [ nn*coulping_const/cosh(coulping_const/t)**2/t/t for t in temp_list]\n",
    "\n",
    "fig1, ax1 = plt.subplots(2,1,figsize=(10,8),sharex=True)\n",
    "fig1.subplots_adjust(left=0.09, bottom=0.1, right=0.99, top=0.99, wspace=0.1)\n",
    "ax1[0].plot(temp_list, ene_list,       **style_dict['Metropolis algorithm'], label='Metropolis algorithm')\n",
    "ax1[0].plot(temp_list, exact_ene_list, **style_dict['Exact calculation'],    label='Exact calculation')\n",
    "\n",
    "ax1[1].plot(temp_list, cv_list,        **style_dict['Metropolis algorithm'], label='Metropolis algorithm')\n",
    "ax1[1].plot(temp_list, exact_cv_list,  **style_dict['Exact calculation'],    label='Exact calculation')\n",
    "\n",
    "props = {'ylabel':r'$\\langle E \\rangle$'}\n",
    "ax1[0].grid(linestyle=\"--\", alpha=0.2)\n",
    "ax1[0].set(**props)\n",
    "\n",
    "props = {'ylabel':r'$\\langle C_v \\rangle$', 'xlabel':r'$T$'}\n",
    "ax1[1].legend(loc='upper right')\n",
    "ax1[1].grid(linestyle=\"--\", alpha=0.2)\n",
    "ax1[1].set(**props);"
   ]
  },
  {
   "cell_type": "code",
   "execution_count": null,
   "metadata": {},
   "outputs": [],
   "source": []
  }
 ],
 "metadata": {
  "kernelspec": {
   "display_name": "Python 3",
   "language": "python",
   "name": "python3"
  },
  "language_info": {
   "codemirror_mode": {
    "name": "ipython",
    "version": 3
   },
   "file_extension": ".py",
   "mimetype": "text/x-python",
   "name": "python",
   "nbconvert_exporter": "python",
   "pygments_lexer": "ipython3",
   "version": "3.7.7"
  }
 },
 "nbformat": 4,
 "nbformat_minor": 4
}
